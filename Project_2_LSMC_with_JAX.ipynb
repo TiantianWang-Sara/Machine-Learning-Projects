{
  "nbformat": 4,
  "nbformat_minor": 0,
  "metadata": {
    "colab": {
      "provenance": [],
      "include_colab_link": true
    },
    "kernelspec": {
      "name": "python3",
      "display_name": "Python 3"
    },
    "accelerator": "GPU",
    "gpuClass": "standard"
  },
  "cells": [
    {
      "cell_type": "markdown",
      "metadata": {
        "id": "view-in-github",
        "colab_type": "text"
      },
      "source": [
        "<a href=\"https://colab.research.google.com/github/TiantianWang-Sara/Machine-Learning-Projects/blob/main/Project_2_LSMC_with_JAX.ipynb\" target=\"_parent\"><img src=\"https://colab.research.google.com/assets/colab-badge.svg\" alt=\"Open In Colab\"/></a>"
      ]
    },
    {
      "cell_type": "code",
      "metadata": {
        "id": "ypSrQvxzipH4"
      },
      "source": [],
      "execution_count": null,
      "outputs": []
    },
    {
      "cell_type": "markdown",
      "source": [
        "Due date: October 31 2024"
      ],
      "metadata": {
        "id": "Umss_PvMjmPG"
      }
    },
    {
      "cell_type": "markdown",
      "source": [
        "# Description\n",
        "  In this problem we will use apply the LSMC method to price American put options. Specifically, we will replicate the result in the first row, 6th column of Table 1 in [Longstaff and Schwartz 2001](https://www.anderson.ucla.edu/documents/areas/fac/finance/least_squares.pdf)\n",
        "\n",
        "  \n",
        "\n",
        "*  Read the introduction of the [paper](https://www.anderson.ucla.edu/documents/areas/fac/finance/least_squares.pdf).\n",
        "*   We will price an american put option as described in page 126 of the aforementioned article. Read paragraphs 1 and 2 of page 126\n",
        "* As we saw in class, one of the ways we can use linear regression to fit nonlinear functions is to use polynomial features. A common choice in many applications is to use the so called ``Chebyshev polynomials''. Chebyshev polynomials are defined recursively by:\n",
        "\n",
        "\\begin{equation}\n",
        "T_0(x) = 1\\\\\n",
        "T_1(x) = x\\\\\n",
        "T_{n + 1}(x)  =  2 x T_n(x) - T_{n - 1}(x)\\\\\n",
        "\\end{equation}\n"
      ],
      "metadata": {
        "id": "UNMPZrw6ucMH"
      }
    },
    {
      "cell_type": "markdown",
      "source": [
        "# Part 1\n",
        "The code below simulates the evolution of a stock price that follows a geometric brownian motion. Write a JAX version of that code. You are not allowed to use functions from other libraries. For this part, the \"simulate\"\n",
        "function does not need to be jit compiled. As we will see, jit compiling a funciton with for loops may introduce some complications\n"
      ],
      "metadata": {
        "id": "qszv8niMdzJK"
      }
    },
    {
      "cell_type": "code",
      "source": [
        "import numpy as np\n",
        "\n",
        "# Data\n",
        "σ = 0.04\n",
        "r = 0.01\n",
        "K = 35\n",
        "\n",
        "# Design choice\n",
        "dt = 0.01\n",
        "m = 100\n",
        "\n",
        "\n",
        "def simulate():\n",
        "  np.random.seed(0)\n",
        "\n",
        "  def step(S):\n",
        "    dZ = np.random.normal(size=S.size) * np.sqrt(dt)\n",
        "    dS = r * S  * dt + σ  * S  * dZ\n",
        "    S = S + dS\n",
        "    return S\n",
        "\n",
        "  S0 = np.ones(20000)\n",
        "  S = S0\n",
        "  S_list = []\n",
        "\n",
        "  for t in range(m):\n",
        "    S = step(S)\n",
        "    S_list.append(S)\n",
        "\n",
        "  S_array = np.stack(S_list)\n",
        "  return S_array\n",
        "\n",
        "simulate()"
      ],
      "metadata": {
        "id": "D6VdC2QZduv9",
        "colab": {
          "base_uri": "https://localhost:8080/"
        },
        "outputId": "c8262266-67de-4178-934a-4f633387ae4e"
      },
      "execution_count": null,
      "outputs": [
        {
          "output_type": "execute_result",
          "data": {
            "text/plain": [
              "array([[1.00715621, 1.00170063, 1.00401495, ..., 0.99987096, 0.99586427,\n",
              "        0.99879389],\n",
              "       [1.00858656, 1.00179888, 1.00740096, ..., 1.00672951, 0.99676042,\n",
              "        0.99400235],\n",
              "       [1.0008628 , 1.00485977, 1.01312172, ..., 1.01043822, 0.98842005,\n",
              "        0.99337036],\n",
              "       ...,\n",
              "       [1.00834903, 0.96949369, 0.96891127, ..., 1.06609344, 0.98978317,\n",
              "        1.00386936],\n",
              "       [1.0045846 , 0.97349649, 0.96590568, ..., 1.06415365, 0.98488869,\n",
              "        1.00491575],\n",
              "       [1.00652461, 0.97005164, 0.96454623, ..., 1.05651341, 0.98368471,\n",
              "        1.00345296]])"
            ]
          },
          "metadata": {},
          "execution_count": 1
        }
      ]
    },
    {
      "cell_type": "code",
      "source": [
        "import jax.numpy as jnp\n",
        "import jax\n",
        "\n",
        "# Data\n",
        "σ = 0.04\n",
        "r = 0.01\n",
        "K = 35\n",
        "\n",
        "# Design choice\n",
        "dt = 0.01\n",
        "m = 100\n",
        "\n",
        "@jax.jit\n",
        "def simulate():\n",
        "  key = jax.random.key(0)\n",
        "\n",
        "  def step(S):\n",
        "    dZ = jax.random.normal(subkey, shape = S.shape) * jnp.sqrt(dt)\n",
        "    dS = r * S  * dt + σ  * S  * dZ\n",
        "    S = S + dS\n",
        "    return S\n",
        "\n",
        "  S0 = jnp.ones(20000)\n",
        "  S = S0\n",
        "  S_list = []\n",
        "\n",
        "  for t in range(m):\n",
        "    key, subkey = jax.random.split(key)\n",
        "    S = step(S)\n",
        "    S_list.append(S)\n",
        "\n",
        "  S_array = jnp.stack(S_list)\n",
        "  return S_array\n",
        "\n",
        "simulate()"
      ],
      "metadata": {
        "id": "8hovq3XQN_rB",
        "colab": {
          "base_uri": "https://localhost:8080/"
        },
        "outputId": "18dc9d4f-87b5-462b-eae7-7aea0dafb817"
      },
      "execution_count": null,
      "outputs": [
        {
          "output_type": "execute_result",
          "data": {
            "text/plain": [
              "Array([[0.9990368 , 0.99845755, 1.0009075 , ..., 0.9949413 , 0.9968931 ,\n",
              "        0.99635816],\n",
              "       [0.99916214, 0.99233675, 0.9988377 , ..., 0.9934248 , 0.9962843 ,\n",
              "        1.0000815 ],\n",
              "       [1.0038999 , 0.99782735, 0.9933294 , ..., 0.9843731 , 0.99664205,\n",
              "        0.99447113],\n",
              "       ...,\n",
              "       [0.98081917, 1.0411566 , 0.98559856, ..., 1.0382012 , 1.0340495 ,\n",
              "        0.9722904 ],\n",
              "       [0.9760958 , 1.0460585 , 0.9811195 , ..., 1.0345007 , 1.0348959 ,\n",
              "        0.977704  ],\n",
              "       [0.97404456, 1.0439519 , 0.9716244 , ..., 1.0376757 , 1.034841  ,\n",
              "        0.974258  ]], dtype=float32)"
            ]
          },
          "metadata": {},
          "execution_count": 4
        }
      ]
    },
    {
      "cell_type": "markdown",
      "source": [
        "# Part 2\n",
        "Write a jit compiled version of the simulate function. You may want to check out the function jax.lax.scan.\n"
      ],
      "metadata": {
        "id": "-sYIUZ1QfF-i"
      }
    },
    {
      "cell_type": "code",
      "source": [
        "import jax.numpy as jnp\n",
        "import jax\n",
        "\n",
        "# Data\n",
        "σ = 0.04\n",
        "r = 0.01\n",
        "K = 35\n",
        "\n",
        "# Design choice\n",
        "dt = 0.01\n",
        "m = 100\n",
        "\n",
        "@jax.jit\n",
        "def simulate():\n",
        "  key = jax.random.key(0)\n",
        "  key = jax.random.split(key,m)\n",
        "\n",
        "  def step(S,key):\n",
        "    dZ = jax.random.normal(key, shape = S.shape) * jnp.sqrt(dt)\n",
        "    dS = r * S  * dt + σ  * S  * dZ\n",
        "    S = S + dS\n",
        "    return S, S\n",
        "\n",
        "  S0 = jnp.ones(20000)\n",
        "  S = S0\n",
        "  S_list = []\n",
        "\n",
        "  S, S_list = jax.lax.scan(step, S, key)\n",
        "\n",
        "  return S_list\n",
        "\n",
        "simulate()"
      ],
      "metadata": {
        "id": "zivRoQkiQBKH",
        "colab": {
          "base_uri": "https://localhost:8080/"
        },
        "outputId": "ec7571f2-a2b8-4a0b-ce8f-50bfbd6de6da"
      },
      "execution_count": null,
      "outputs": [
        {
          "output_type": "execute_result",
          "data": {
            "text/plain": [
              "Array([[0.9933954 , 1.0010924 , 1.0007713 , ..., 1.001979  , 0.99986166,\n",
              "        1.0042802 ],\n",
              "       [0.99128497, 1.0050147 , 1.0016878 , ..., 1.0015069 , 0.9999063 ,\n",
              "        1.0138991 ],\n",
              "       [0.98903215, 1.0027052 , 1.0014749 , ..., 0.996598  , 1.0071341 ,\n",
              "        1.0048819 ],\n",
              "       ...,\n",
              "       [1.0297807 , 1.0876848 , 1.0172694 , ..., 1.0528882 , 0.9786827 ,\n",
              "        1.0096897 ],\n",
              "       [1.024948  , 1.0880603 , 1.0160227 , ..., 1.05423   , 0.9789505 ,\n",
              "        1.0111402 ],\n",
              "       [1.026088  , 1.0818837 , 1.0110286 , ..., 1.0537153 , 0.98459226,\n",
              "        1.0074184 ]], dtype=float32)"
            ]
          },
          "metadata": {},
          "execution_count": 5
        }
      ]
    },
    {
      "cell_type": "markdown",
      "source": [
        "# Part 3\n",
        "The code below computes the price of an American Put option using Least Squares Monte Carlo (LSMC). Write a JAX version of that code. You are not allowed to use functions from other libraries. Your \"compute_price\" function must be jit compiled."
      ],
      "metadata": {
        "id": "YdCFrHUafwBh"
      }
    },
    {
      "cell_type": "code",
      "source": [
        "import numpy as np\n",
        "\n",
        "Spot = 36   # stock price\n",
        "σ = 0.2     # stock volatility\n",
        "K = 40      # strike price\n",
        "r = 0.06    # risk free rate\n",
        "n = 100000  # Number of simualted paths\n",
        "m = 50      # number of exercise dates\n",
        "T = 1       # maturity\n",
        "order = 12   # Polynmial order\n",
        "Δt = T / m  # interval between two exercise dates\n",
        "\n",
        "\n",
        "# Construct polynomial features of order up to k using the\n",
        "# recursive formulation\n",
        "def chebyshev_basis(x, k):\n",
        "    B = [np.ones(len(x)), x]\n",
        "    for n in range(2, k):\n",
        "        Bn = 2 * x * B[n - 1] - B[n - 2]\n",
        "        B.append(Bn)\n",
        "\n",
        "    return np.column_stack(B)\n",
        "\n",
        "\n",
        "# scales x to be in the interval(-1, 1)\n",
        "def scale(x):\n",
        "    xmin = x.min()\n",
        "    xmax = x.max()\n",
        "    a = 2 / (xmax - xmin)\n",
        "    b = 1 - a * xmax\n",
        "    return a * x + b\n",
        "\n",
        "\n",
        "# simulates one step of the stock price evolution\n",
        "def step(S):\n",
        "    dB = np.sqrt(Δt) * np.random.normal(size=S.size)\n",
        "    S_tp1 = S + r * S * Δt + σ * S * dB\n",
        "    return S_tp1\n",
        "\n",
        "\n",
        "def payoff_put(S):\n",
        "    return np.maximum(K - S, 0.)\n",
        "\n",
        "\n",
        "# LSMC algorithm\n",
        "def compute_price():\n",
        "    np.random.seed(0)\n",
        "    S0 = Spot * np.ones(n)\n",
        "    S = [S0]\n",
        "\n",
        "    for t in range(m):\n",
        "        S_tp1 = step(S[t])\n",
        "        S.append(S_tp1)\n",
        "\n",
        "    discount = np.exp(-r * Δt)\n",
        "\n",
        "    # Very last date\n",
        "    value_if_exercise = payoff_put(S[-1])\n",
        "    discounted_future_cashflows = value_if_exercise * discount\n",
        "\n",
        "    # Proceed recursively\n",
        "    for i in range(m - 1):\n",
        "        X = chebyshev_basis(scale(S[-2 - i]), order)\n",
        "        Y = discounted_future_cashflows\n",
        "\n",
        "        Θ = np.linalg.solve(X.T @ X, X.T @ Y)\n",
        "        value_if_wait = X @ Θ\n",
        "        value_if_exercise = payoff_put(S[-2 - i])\n",
        "        exercise = value_if_exercise >= value_if_wait\n",
        "        discounted_future_cashflows = discount * np.where(\n",
        "            exercise,\n",
        "            value_if_exercise,\n",
        "            discounted_future_cashflows)\n",
        "\n",
        "    return discounted_future_cashflows.mean()\n",
        "\n",
        "\n",
        "print(compute_price())\n",
        "# test = compute_price(order, Spot, σ, K, r)\n"
      ],
      "metadata": {
        "colab": {
          "base_uri": "https://localhost:8080/"
        },
        "id": "w539_qu_fFaf",
        "outputId": "21b5942e-fcab-47f6-a08f-52ad901b8ed3"
      },
      "execution_count": null,
      "outputs": [
        {
          "output_type": "stream",
          "name": "stdout",
          "text": [
            "4.4634476148734405\n"
          ]
        }
      ]
    },
    {
      "cell_type": "code",
      "source": [
        "import jax.numpy as jnp\n",
        "import jax\n",
        "\n",
        "Spot = 36   # stock price\n",
        "σ = 0.2     # stock volatility\n",
        "K = 40      # strike price\n",
        "r = 0.06    # risk free rate\n",
        "n = 100000  # Number of simualted paths\n",
        "m = 50      # number of exercise dates\n",
        "T = 1       # maturity\n",
        "order = 12   # Polynmial order\n",
        "Δt = T / m  # interval between two exercise dates\n",
        "\n",
        "# Construct polynomial features of order up to k using the\n",
        "# recursive formulation\n",
        "def chebyshev_basis(x, k):\n",
        "    B = [jnp.ones(len(x)), x]\n",
        "    for n in range(2, k):\n",
        "        Bn = 2 * x * B[n - 1] - B[n - 2]\n",
        "        B.append(Bn)\n",
        "\n",
        "    return jnp.column_stack(B)\n",
        "\n",
        "\n",
        "# scales x to be in the interval(-1, 1)\n",
        "def scale(x):\n",
        "    xmin = x.min()\n",
        "    xmax = x.max()\n",
        "    a = 2 / (xmax - xmin)\n",
        "    b = 1 - a * xmax\n",
        "    return a * x + b\n",
        "\n",
        "\n",
        "# simulates one step of the stock price evolution\n",
        "def step(S, key):\n",
        "    dB = jax.random.normal(key, shape = S.shape) * jnp.sqrt(Δt)\n",
        "    S_tp1 = S + r * S * Δt + σ * S * dB\n",
        "    return S_tp1, S_tp1\n",
        "\n",
        "\n",
        "def payoff_put(S):\n",
        "    return jnp.maximum(K - S, 0.)\n",
        "\n",
        "\n",
        "# LSMC algorithm\n",
        "@jax.jit\n",
        "def compute_price():\n",
        "    key = jax.random.key(0)\n",
        "    key = jax.random.split(key,m)\n",
        "    S0 = Spot * jnp.ones(n)\n",
        "    S = [S0]\n",
        "    S = jnp.stack(S)\n",
        "    S_tp1, S_stack = jax.lax.scan(step, S[0], key)\n",
        "\n",
        "    S = jnp.vstack((S,S_stack))\n",
        "\n",
        "    discount = jnp.exp(-r * Δt)\n",
        "\n",
        "    # Very last date\n",
        "    value_if_exercise = payoff_put(S[-1])\n",
        "    discounted_future_cashflows = value_if_exercise * discount\n",
        "\n",
        "    def value(discounted_future_cashflows, i):\n",
        "        X = chebyshev_basis(scale(S[-2 - i]), order)\n",
        "        Y = discounted_future_cashflows\n",
        "\n",
        "        Θ = jnp.linalg.solve(X.T @ X, X.T @ Y)\n",
        "        value_if_wait = X @ Θ\n",
        "        value_if_exercise = payoff_put(S[-2 - i])\n",
        "        exercise = value_if_exercise >= value_if_wait\n",
        "        discounted_future_cashflows = discount * jnp.where(\n",
        "            exercise,\n",
        "            value_if_exercise,\n",
        "            discounted_future_cashflows)\n",
        "        return discounted_future_cashflows, discounted_future_cashflows\n",
        "\n",
        "    discounted_future_cashflows, discounted_future_cashflows_stack = jax.lax.scan(value, discounted_future_cashflows, jnp.arange(m-1))\n",
        "\n",
        "    return discounted_future_cashflows.mean()\n",
        "\n",
        "\n",
        "print(compute_price())\n",
        "# test = compute_price(order, Spot, σ, K, r"
      ],
      "metadata": {
        "colab": {
          "base_uri": "https://localhost:8080/"
        },
        "id": "IWXuNReHUP3D",
        "outputId": "38fb394f-2d45-4bfd-db98-e87761757eca"
      },
      "execution_count": null,
      "outputs": [
        {
          "output_type": "stream",
          "name": "stdout",
          "text": [
            "4.4776163\n"
          ]
        }
      ]
    }
  ]
}